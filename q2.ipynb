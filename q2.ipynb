{
  "nbformat": 4,
  "nbformat_minor": 0,
  "metadata": {
    "colab": {
      "provenance": [],
      "gpuType": "T4"
    },
    "kernelspec": {
      "name": "python3",
      "display_name": "Python 3"
    },
    "language_info": {
      "name": "python"
    },
    "accelerator": "GPU"
  },
  "cells": [
    {
      "cell_type": "code",
      "source": [
        "#cell 1 Setup\n",
        "!pip install datasets --quiet\n",
        "\n",
        "import torch\n",
        "import torch.nn as nn\n",
        "import torch.optim as optim\n",
        "from datasets import load_dataset\n",
        "from torch.utils.data import DataLoader\n",
        "from torch.nn.utils.rnn import pad_sequence\n",
        "import re\n",
        "import time\n",
        "from collections import Counter\n",
        "\n",
        "device = torch.device(\"cuda\" if torch.cuda.is_available() else \"cpu\")\n",
        "print(\"Using device:\", device)\n"
      ],
      "metadata": {
        "id": "UJjvVwS8GZlb",
        "colab": {
          "base_uri": "https://localhost:8080/"
        },
        "outputId": "886caec3-6561-4a01-e4e0-71adb98ba904"
      },
      "execution_count": 11,
      "outputs": [
        {
          "output_type": "stream",
          "name": "stdout",
          "text": [
            "Using device: cuda\n"
          ]
        }
      ]
    },
    {
      "cell_type": "code",
      "source": [
        "#cell 2 Load IMDB & Build Vocabulary\n",
        "imdb = load_dataset(\"imdb\")\n",
        "\n",
        "def basic_tokenizer(text):\n",
        "    text = text.lower()\n",
        "    text = re.sub(r\"[^a-z0-9\\s]\", \"\", text)\n",
        "    return text.split()\n",
        "\n",
        "counter = Counter()\n",
        "for text in imdb[\"train\"][\"text\"]:\n",
        "    counter.update(basic_tokenizer(text))\n",
        "\n",
        "MAX_VOCAB_SIZE = 20000\n",
        "most_common = counter.most_common(MAX_VOCAB_SIZE)\n",
        "itos = [\"<pad>\", \"<unk>\"] + [word for word, _ in most_common]\n",
        "stoi = {word: idx for idx, word in enumerate(itos)}\n",
        "\n",
        "PAD_IDX = stoi[\"<pad>\"]\n",
        "UNK_IDX = stoi[\"<unk>\"]\n",
        "\n",
        "def numericalize(tokens):\n",
        "    return [stoi.get(token, UNK_IDX) for token in tokens]\n",
        "\n",
        "def collate_batch(batch):\n",
        "    labels, texts = [], []\n",
        "    for example in batch:\n",
        "        labels.append(example[\"label\"])\n",
        "        token_ids = torch.tensor(numericalize(basic_tokenizer(example[\"text\"])), dtype=torch.long)\n",
        "        texts.append(token_ids)\n",
        "    labels = torch.tensor(labels, dtype=torch.long)\n",
        "    texts = pad_sequence(texts, batch_first=True, padding_value=PAD_IDX)\n",
        "    return texts, labels\n",
        "\n",
        "train_loader = DataLoader(imdb[\"train\"], batch_size=32, shuffle=True, collate_fn=collate_batch)\n",
        "test_loader = DataLoader(imdb[\"test\"], batch_size=32, shuffle=False, collate_fn=collate_batch)\n",
        "\n",
        "print(\"Vocab size:\", len(itos))\n"
      ],
      "metadata": {
        "id": "NWrGqvMjE-jE",
        "colab": {
          "base_uri": "https://localhost:8080/"
        },
        "outputId": "49ef607f-0b03-4f61-d6b6-6a9a25323e7b"
      },
      "execution_count": 12,
      "outputs": [
        {
          "output_type": "stream",
          "name": "stdout",
          "text": [
            "Vocab size: 20002\n"
          ]
        }
      ]
    },
    {
      "cell_type": "code",
      "source": [
        "#cell 3 LSTM Model\n",
        "class LSTMClassifier(nn.Module):\n",
        "    def __init__(self, vocab_size, embed_dim=100, hidden_dim=128, num_classes=2):\n",
        "        super().__init__()\n",
        "        self.embedding = nn.Embedding(vocab_size, embed_dim, padding_idx=PAD_IDX)\n",
        "        self.lstm = nn.LSTM(embed_dim, hidden_dim, batch_first=True, bidirectional=True)\n",
        "        self.fc = nn.Linear(hidden_dim*2, num_classes)\n",
        "\n",
        "    def forward(self, x):\n",
        "        embedded = self.embedding(x)\n",
        "        _, (h, _) = self.lstm(embedded)\n",
        "        out = torch.cat((h[-2,:,:], h[-1,:,:]), dim=1)\n",
        "        return self.fc(out)\n",
        "\n",
        "model = LSTMClassifier(len(itos)).to(device)\n",
        "print(model)\n"
      ],
      "metadata": {
        "colab": {
          "base_uri": "https://localhost:8080/"
        },
        "id": "hcKjYXQEE-mH",
        "outputId": "86574bb8-90f0-4c40-d643-6a63735af1ec"
      },
      "execution_count": 13,
      "outputs": [
        {
          "output_type": "stream",
          "name": "stdout",
          "text": [
            "LSTMClassifier(\n",
            "  (embedding): Embedding(20002, 100, padding_idx=0)\n",
            "  (lstm): LSTM(100, 128, batch_first=True, bidirectional=True)\n",
            "  (fc): Linear(in_features=256, out_features=2, bias=True)\n",
            ")\n"
          ]
        }
      ]
    },
    {
      "cell_type": "code",
      "source": [
        "#cell 4 Training & Evaluation\n",
        "criterion = nn.CrossEntropyLoss()\n",
        "optimizer = optim.Adam(model.parameters(), lr=1e-3)\n",
        "\n",
        "def train_one_epoch(model, loader, optimizer, criterion):\n",
        "    model.train()\n",
        "    total_loss, correct = 0, 0\n",
        "    for X, y in loader:\n",
        "        X, y = X.to(device), y.to(device)\n",
        "        optimizer.zero_grad()\n",
        "        out = model(X)\n",
        "        loss = criterion(out, y)\n",
        "        loss.backward()\n",
        "        optimizer.step()\n",
        "        total_loss += loss.item()\n",
        "        correct += (out.argmax(1) == y).sum().item()\n",
        "    return total_loss/len(loader), correct/len(loader.dataset)\n",
        "\n",
        "def evaluate(model, loader, criterion):\n",
        "    model.eval()\n",
        "    total_loss, correct = 0, 0\n",
        "    with torch.no_grad():\n",
        "        for X, y in loader:\n",
        "            X, y = X.to(device), y.to(device)\n",
        "            out = model(X)\n",
        "            loss = criterion(out, y)\n",
        "            total_loss += loss.item()\n",
        "            correct += (out.argmax(1) == y).sum().item()\n",
        "    return total_loss/len(loader), correct/len(loader.dataset)\n",
        "\n",
        "EPOCHS = 5\n",
        "best_acc = 0\n",
        "history = {\"train_acc\": [], \"val_acc\": []}\n",
        "\n",
        "for epoch in range(1, EPOCHS+1):\n",
        "    t0 = time.time()\n",
        "    train_loss, train_acc = train_one_epoch(model, train_loader, optimizer, criterion)\n",
        "    val_loss, val_acc = evaluate(model, test_loader, criterion)\n",
        "    elapsed = time.time() - t0\n",
        "\n",
        "    history[\"train_acc\"].append(train_acc*100)\n",
        "    history[\"val_acc\"].append(val_acc*100)\n",
        "\n",
        "    print(f\"Epoch {epoch}: TrainLoss={train_loss:.4f} Acc={train_acc*100:.2f}% | \"\n",
        "          f\"ValLoss={val_loss:.4f} Acc={val_acc*100:.2f}% | Time={elapsed:.1f}s\")\n",
        "\n",
        "    if val_acc > best_acc:\n",
        "        best_acc = val_acc\n",
        "\n",
        "print(\"Best Test Accuracy:\", best_acc*100)\n"
      ],
      "metadata": {
        "id": "0K3tECQbE-o1",
        "colab": {
          "base_uri": "https://localhost:8080/"
        },
        "outputId": "5c0f55a3-1450-4edf-8f15-2ce6a3438354"
      },
      "execution_count": 14,
      "outputs": [
        {
          "output_type": "stream",
          "name": "stdout",
          "text": [
            "Epoch 1: TrainLoss=0.6414 Acc=62.16% | ValLoss=0.5618 Acc=71.88% | Time=26.5s\n",
            "Epoch 2: TrainLoss=0.5700 Acc=70.66% | ValLoss=0.5650 Acc=70.24% | Time=26.7s\n",
            "Epoch 3: TrainLoss=0.4706 Acc=77.90% | ValLoss=0.4596 Acc=80.06% | Time=25.6s\n",
            "Epoch 4: TrainLoss=0.3555 Acc=85.42% | ValLoss=0.4379 Acc=81.02% | Time=25.6s\n",
            "Epoch 5: TrainLoss=0.3408 Acc=85.44% | ValLoss=0.4561 Acc=78.63% | Time=25.9s\n",
            "Best Test Accuracy: 81.016\n"
          ]
        }
      ]
    },
    {
      "cell_type": "code",
      "source": [
        "#cell 5 graph\n",
        "import matplotlib.pyplot as plt\n",
        "\n",
        "plt.figure(figsize=(8,5))\n",
        "plt.plot(history[\"train_acc\"], label=\"Train Accuracy\")\n",
        "plt.plot(history[\"val_acc\"], label=\"Validation Accuracy\")\n",
        "plt.xlabel(\"Epoch\")\n",
        "plt.ylabel(\"Accuracy (%)\")\n",
        "plt.title(\"IMDB Sentiment Classification - LSTM\")\n",
        "plt.legend()\n",
        "plt.grid(True)\n",
        "plt.show()\n"
      ],
      "metadata": {
        "id": "6Vufg33LE-rv",
        "colab": {
          "base_uri": "https://localhost:8080/",
          "height": 487
        },
        "outputId": "2a18a14e-3b7a-438f-ebdf-b95c34064507"
      },
      "execution_count": 15,
      "outputs": [
        {
          "output_type": "display_data",
          "data": {
            "text/plain": [
              "<Figure size 800x500 with 1 Axes>"
            ],
            "image/png": "[encoded data removed]"
          },
          "metadata": {}
        }
      ]
    },
    {
      "cell_type": "code",
      "source": [],
      "metadata": {
        "id": "cU4VyvkZE-ub"
      },
      "execution_count": null,
      "outputs": []
    },
    {
      "cell_type": "code",
      "source": [],
      "metadata": {
        "id": "5K70UkrDE-x6"
      },
      "execution_count": null,
      "outputs": []
    },
    {
      "cell_type": "code",
      "source": [],
      "metadata": {
        "id": "mDZ5IXnmE-8D"
      },
      "execution_count": null,
      "outputs": []
    },
    {
      "cell_type": "code",
      "source": [],
      "metadata": {
        "id": "-JEa1oF5E_A1"
      },
      "execution_count": null,
      "outputs": []
    }
  ]
}