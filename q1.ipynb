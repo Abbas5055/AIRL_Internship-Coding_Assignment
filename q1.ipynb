{
  "nbformat": 4,
  "nbformat_minor": 0,
  "metadata": {
    "colab": {
      "provenance": [],
      "gpuType": "T4"
    },
    "kernelspec": {
      "name": "python3",
      "display_name": "Python 3"
    },
    "language_info": {
      "name": "python"
    },
    "accelerator": "GPU"
  },
  "cells": [
    {
      "cell_type": "code",
      "source": [
        "#cell 1\n",
        "import os\n",
        "import random\n",
        "import math\n",
        "from pathlib import Path\n",
        "\n",
        "import torch\n",
        "import torch.nn as nn\n",
        "import torch.nn.functional as F\n",
        "import torch.optim as optim\n",
        "from torch.utils.data import DataLoader\n",
        "import torchvision\n",
        "import torchvision.transforms as transforms\n",
        "from tqdm import tqdm\n",
        "import matplotlib.pyplot as plt\n",
        "import numpy as np\n",
        "\n",
        "device = torch.device('cuda' if torch.cuda.is_available() else 'cpu')\n",
        "print(\"Device:\", device)\n",
        "\n",
        "def seed_everything(seed=42):\n",
        "    random.seed(seed)\n",
        "    np.random.seed(seed)\n",
        "    torch.manual_seed(seed)\n",
        "    torch.cuda.manual_seed_all(seed)\n",
        "\n",
        "seed_everything(42)\n"
      ],
      "metadata": {
        "colab": {
          "base_uri": "https://localhost:8080/"
        },
        "id": "xh8JpS_bci7T",
        "outputId": "763f9668-d748-4a36-daa9-8ac093bcf287"
      },
      "execution_count": 28,
      "outputs": [
        {
          "output_type": "stream",
          "name": "stdout",
          "text": [
            "Device: cuda\n"
          ]
        }
      ]
    },
    {
      "cell_type": "code",
      "source": [
        "#cell 2\n",
        "configs = {\n",
        "    \"small\": {\n",
        "        'img_size': 32, 'patch_size': 4, 'in_chans': 3, 'num_classes': 10,\n",
        "        'embed_dim': 128, 'depth': 4, 'num_heads': 4, 'mlp_ratio': 4.0, 'dropout': 0.1,\n",
        "        'batch_size': 128, 'test_batch_size': 256, 'epochs': 15, 'lr': 3e-4, 'weight_decay': 1e-4,\n",
        "        'data_dir': './data'\n",
        "    },\n",
        "    \"medium\": {\n",
        "        'img_size': 32, 'patch_size': 4, 'in_chans': 3, 'num_classes': 10,\n",
        "        'embed_dim': 256, 'depth': 6, 'num_heads': 8, 'mlp_ratio': 4.0, 'dropout': 0.1,\n",
        "        'batch_size': 128, 'test_batch_size': 256, 'epochs': 20, 'lr': 3e-4, 'weight_decay': 1e-4,\n",
        "        'data_dir': './data'\n",
        "    },\n",
        "    \"large\": {\n",
        "        'img_size': 32, 'patch_size': 4, 'in_chans': 3, 'num_classes': 10,\n",
        "        'embed_dim': 384, 'depth': 8, 'num_heads': 12, 'mlp_ratio': 4.0, 'dropout': 0.1,\n",
        "        'batch_size': 128, 'test_batch_size': 256, 'epochs': 25, 'lr': 3e-4, 'weight_decay': 1e-4,\n",
        "        'data_dir': './data'\n",
        "    }\n",
        "}\n"
      ],
      "metadata": {
        "id": "G_4vEkVDci-d"
      },
      "execution_count": 29,
      "outputs": []
    },
    {
      "cell_type": "code",
      "source": [
        "#cell 3\n",
        "transform_train = transforms.Compose([\n",
        "    transforms.RandomCrop(32, padding=4),\n",
        "    transforms.RandomHorizontalFlip(),\n",
        "    transforms.ToTensor(),\n",
        "    transforms.Normalize((0.4914, 0.4822, 0.4465), (0.247, 0.243, 0.261))\n",
        "])\n",
        "\n",
        "transform_test = transforms.Compose([\n",
        "    transforms.ToTensor(),\n",
        "    transforms.Normalize((0.4914, 0.4822, 0.4465), (0.247, 0.243, 0.261))\n",
        "])\n",
        "\n",
        "trainset = torchvision.datasets.CIFAR10(root=cfg['data_dir'], train=True, download=True, transform=transform_train)\n",
        "testset = torchvision.datasets.CIFAR10(root=cfg['data_dir'], train=False, download=True, transform=transform_test)\n",
        "\n",
        "trainloader = DataLoader(trainset, batch_size=cfg['batch_size'], shuffle=True, num_workers=2, pin_memory=True)\n",
        "testloader = DataLoader(testset, batch_size=cfg['test_batch_size'], shuffle=False, num_workers=2, pin_memory=True)\n",
        "\n",
        "print(\"Train size:\", len(trainset), \"Test size:\", len(testset))\n",
        "\n",
        "# Show one sample\n",
        "images, labels = next(iter(trainloader))\n",
        "img = images[0]\n",
        "mean = torch.tensor([0.4914, 0.4822, 0.4465]).view(3,1,1)\n",
        "std = torch.tensor([0.247, 0.243, 0.261]).view(3,1,1)\n",
        "img_disp = img * std + mean\n",
        "plt.imshow(img_disp.permute(1,2,0).numpy())\n",
        "plt.title(f'label: {labels[0].item()}')\n",
        "plt.axis('off')\n",
        "plt.show()\n"
      ],
      "metadata": {
        "colab": {
          "base_uri": "https://localhost:8080/",
          "height": 445
        },
        "id": "vys2pJHWcjBh",
        "outputId": "5685a17c-79d0-467d-bd06-2630ab955631"
      },
      "execution_count": 31,
      "outputs": [
        {
          "output_type": "stream",
          "name": "stdout",
          "text": [
            "Train size: 50000 Test size: 10000\n"
          ]
        },
        {
          "output_type": "display_data",
          "data": {
            "text/plain": [
              "<Figure size 640x480 with 1 Axes>"
            ],
            "image/png": "[encoded data removed]"
          },
          "metadata": {}
        }
      ]
    },
    {
      "cell_type": "code",
      "source": [
        "#cell 4\n",
        "class PatchEmbedding(nn.Module):\n",
        "    def __init__(self, img_size=32, patch_size=4, in_chans=3, embed_dim=256):\n",
        "        super().__init__()\n",
        "        assert img_size % patch_size == 0\n",
        "        self.patch_size = patch_size\n",
        "        self.num_patches = (img_size // patch_size) ** 2\n",
        "        self.proj = nn.Conv2d(in_chans, embed_dim, kernel_size=patch_size, stride=patch_size)\n",
        "\n",
        "    def forward(self, x):\n",
        "        x = self.proj(x)\n",
        "        x = x.flatten(2).transpose(1,2)\n",
        "        return x\n",
        "\n",
        "class MultiHeadSelfAttention(nn.Module):\n",
        "    def __init__(self, embed_dim=256, num_heads=8, dropout=0.0):\n",
        "        super().__init__()\n",
        "        self.mha = nn.MultiheadAttention(embed_dim, num_heads, dropout=dropout, batch_first=True)\n",
        "        self.norm = nn.LayerNorm(embed_dim)\n",
        "\n",
        "    def forward(self, x):\n",
        "        attn_out, _ = self.mha(x, x, x)\n",
        "        return self.norm(x + attn_out)\n",
        "\n",
        "class MLPBlock(nn.Module):\n",
        "    def __init__(self, embed_dim=256, mlp_ratio=4.0, dropout=0.0):\n",
        "        super().__init__()\n",
        "        hidden_dim = int(embed_dim * mlp_ratio)\n",
        "        self.fc1 = nn.Linear(embed_dim, hidden_dim)\n",
        "        self.fc2 = nn.Linear(hidden_dim, embed_dim)\n",
        "        self.drop = nn.Dropout(dropout)\n",
        "        self.norm = nn.LayerNorm(embed_dim)\n",
        "\n",
        "    def forward(self, x):\n",
        "        out = self.fc2(F.gelu(self.fc1(x)))\n",
        "        out = self.drop(out)\n",
        "        return self.norm(x + out)\n",
        "\n",
        "class TransformerEncoderLayer(nn.Module):\n",
        "    def __init__(self, embed_dim=256, num_heads=8, mlp_ratio=4.0, dropout=0.0):\n",
        "        super().__init__()\n",
        "        self.attn = MultiHeadSelfAttention(embed_dim, num_heads, dropout)\n",
        "        self.mlp = MLPBlock(embed_dim, mlp_ratio, dropout)\n",
        "\n",
        "    def forward(self, x):\n",
        "        x = self.attn(x)\n",
        "        x = self.mlp(x)\n",
        "        return x\n",
        "\n",
        "class TransformerEncoder(nn.Module):\n",
        "    def __init__(self, depth=6, embed_dim=256, num_heads=8, mlp_ratio=4.0, dropout=0.0):\n",
        "        super().__init__()\n",
        "        self.layers = nn.ModuleList([\n",
        "            TransformerEncoderLayer(embed_dim, num_heads, mlp_ratio, dropout) for _ in range(depth)\n",
        "        ])\n",
        "\n",
        "    def forward(self, x):\n",
        "        for layer in self.layers:\n",
        "            x = layer(x)\n",
        "        return x\n"
      ],
      "metadata": {
        "id": "pV-kzaY_cjEl"
      },
      "execution_count": 32,
      "outputs": []
    },
    {
      "cell_type": "code",
      "source": [
        "class VisionTransformer(nn.Module):\n",
        "    def __init__(self, img_size=32, patch_size=4, in_chans=3, num_classes=10,\n",
        "                 embed_dim=256, depth=6, num_heads=8, mlp_ratio=4.0, dropout=0.0):\n",
        "        super().__init__()\n",
        "        self.patch_embed = PatchEmbedding(img_size, patch_size, in_chans, embed_dim)\n",
        "        num_patches = self.patch_embed.num_patches\n",
        "        self.cls_token = nn.Parameter(torch.zeros(1, 1, embed_dim))\n",
        "        self.pos_embed = nn.Parameter(torch.zeros(1, num_patches + 1, embed_dim))\n",
        "        self.encoder = TransformerEncoder(depth, embed_dim, num_heads, mlp_ratio, dropout)\n",
        "        self.norm = nn.LayerNorm(embed_dim)\n",
        "        self.head = nn.Linear(embed_dim, num_classes)\n",
        "        nn.init.trunc_normal_(self.pos_embed, std=0.02)\n",
        "        nn.init.trunc_normal_(self.cls_token, std=0.02)\n",
        "        self.apply(self._init_weights)\n",
        "\n",
        "    def _init_weights(self, m):\n",
        "        if isinstance(m, nn.Linear):\n",
        "            nn.init.xavier_uniform_(m.weight)\n",
        "            if m.bias is not None:\n",
        "                nn.init.constant_(m.bias, 0)\n",
        "        elif isinstance(m, nn.LayerNorm):\n",
        "            nn.init.constant_(m.bias, 0)\n",
        "            nn.init.constant_(m.weight, 1.0)\n",
        "\n",
        "    def forward(self, x):\n",
        "        B = x.size(0)\n",
        "        x = self.patch_embed(x)\n",
        "        cls_tokens = self.cls_token.expand(B, -1, -1)\n",
        "        x = torch.cat((cls_tokens, x), dim=1)\n",
        "        x = x + self.pos_embed\n",
        "        x = self.encoder(x)\n",
        "        x = self.norm(x)\n",
        "        cls_out = x[:, 0]\n",
        "        return self.head(cls_out)\n"
      ],
      "metadata": {
        "id": "OPx6wjZpcjHO"
      },
      "execution_count": 35,
      "outputs": []
    },
    {
      "cell_type": "code",
      "source": [
        "#cell 6\n",
        "def accuracy(output, target, topk=(1,)):\n",
        "    with torch.no_grad():\n",
        "        maxk = max(topk)\n",
        "        _, pred = output.topk(maxk, 1, True, True)\n",
        "        pred = pred.t()\n",
        "        correct = pred.eq(target.view(1, -1).expand_as(pred))\n",
        "        res = []\n",
        "        for k in topk:\n",
        "            correct_k = correct[:k].reshape(-1).float().sum(0, keepdim=True)\n",
        "            res.append(correct_k.mul_(100.0 / target.size(0)).item())\n",
        "        return res\n",
        "\n",
        "def train_one_epoch(model, optimizer, criterion, dataloader, epoch):\n",
        "    model.train()\n",
        "    losses = 0.0\n",
        "    pbar = tqdm(dataloader, desc=f'Train Ep {epoch}')\n",
        "    for imgs, labels in pbar:\n",
        "        imgs, labels = imgs.to(device), labels.to(device)\n",
        "        optimizer.zero_grad()\n",
        "        outputs = model(imgs)\n",
        "        loss = criterion(outputs, labels)\n",
        "        loss.backward()\n",
        "        optimizer.step()\n",
        "        losses += loss.item()\n",
        "        pbar.set_postfix({'loss': losses / (pbar.n + 1)})\n",
        "    return losses / len(dataloader)\n",
        "\n",
        "def evaluate(model, dataloader, criterion):\n",
        "    model.eval()\n",
        "    total_loss = 0.0\n",
        "    top1 = 0.0\n",
        "    with torch.no_grad():\n",
        "        for imgs, labels in dataloader:\n",
        "            imgs, labels = imgs.to(device), labels.to(device)\n",
        "            outputs = model(imgs)\n",
        "            loss = criterion(outputs, labels)\n",
        "            total_loss += loss.item()\n",
        "            a1 = accuracy(outputs, labels, topk=(1,))[0]\n",
        "            top1 += a1 * (imgs.size(0) / len(dataloader.dataset))\n",
        "    return total_loss / len(dataloader), top1\n"
      ],
      "metadata": {
        "id": "RYfAaYCQcjKZ"
      },
      "execution_count": 36,
      "outputs": []
    },
    {
      "cell_type": "code",
      "source": [
        "#cell 7\n",
        "results = {}\n",
        "\n",
        "for mode, cfg in configs.items():\n",
        "    print(\"=\"*40)\n",
        "    print(f\" Training config: {mode.upper()} \")\n",
        "    print(\"=\"*40)\n",
        "\n",
        "    # Data loaders\n",
        "    trainset = torchvision.datasets.CIFAR10(root=cfg['data_dir'], train=True, download=True,\n",
        "                                            transform=transform_train)\n",
        "    testset = torchvision.datasets.CIFAR10(root=cfg['data_dir'], train=False, download=True,\n",
        "                                           transform=transform_test)\n",
        "    trainloader = DataLoader(trainset, batch_size=cfg['batch_size'], shuffle=True, num_workers=2, pin_memory=True)\n",
        "    testloader = DataLoader(testset, batch_size=cfg['test_batch_size'], shuffle=False, num_workers=2, pin_memory=True)\n",
        "\n",
        "    # Model\n",
        "    model = VisionTransformer(\n",
        "        img_size=cfg['img_size'], patch_size=cfg['patch_size'], in_chans=cfg['in_chans'],\n",
        "        num_classes=cfg['num_classes'], embed_dim=cfg['embed_dim'], depth=cfg['depth'],\n",
        "        num_heads=cfg['num_heads'], mlp_ratio=cfg['mlp_ratio'], dropout=cfg['dropout']\n",
        "    ).to(device)\n",
        "\n",
        "    criterion = nn.CrossEntropyLoss()\n",
        "    optimizer = optim.AdamW(model.parameters(), lr=cfg['lr'], weight_decay=cfg['weight_decay'])\n",
        "\n",
        "    best_acc = 0.0\n",
        "    for epoch in range(1, cfg['epochs'] + 1):\n",
        "        train_loss = train_one_epoch(model, optimizer, criterion, trainloader, epoch)\n",
        "        val_loss, val_acc = evaluate(model, testloader, criterion)\n",
        "        print(f\"Epoch {epoch}: TrainLoss={train_loss:.4f} ValLoss={val_loss:.4f} ValAcc={val_acc:.2f}%\")\n",
        "        if val_acc > best_acc:\n",
        "            best_acc = val_acc\n",
        "            torch.save({'epoch': epoch, 'model_state': model.state_dict(), 'acc': best_acc},\n",
        "                       out_dir / f'best_vit_{mode}.pth')\n",
        "\n",
        "    results[mode] = best_acc\n",
        "    print(f\"Best Acc for {mode}: {best_acc:.2f}%\")\n",
        "\n",
        "print(\"\\n==== Final Results ====\")\n",
        "for mode, acc in results.items():\n",
        "    print(f\"{mode.capitalize()}: {acc:.2f}%\")\n",
        "\n"
      ],
      "metadata": {
        "colab": {
          "base_uri": "https://localhost:8080/"
        },
        "id": "W0aOV4c9cjNN",
        "outputId": "fba24eea-f5d3-455c-accd-9f2ac371f89d"
      },
      "execution_count": 38,
      "outputs": [
        {
          "output_type": "stream",
          "name": "stdout",
          "text": [
            "========================================\n",
            " Training config: SMALL \n",
            "========================================\n"
          ]
        },
        {
          "output_type": "stream",
          "name": "stderr",
          "text": [
            "Train Ep 1: 100%|██████████| 391/391 [00:22<00:00, 17.14it/s, loss=1.85]\n"
          ]
        },
        {
          "output_type": "stream",
          "name": "stdout",
          "text": [
            "Epoch 1: TrainLoss=1.8518 ValLoss=1.6568 ValAcc=39.28%\n"
          ]
        },
        {
          "output_type": "stream",
          "name": "stderr",
          "text": [
            "Train Ep 2: 100%|██████████| 391/391 [00:22<00:00, 17.27it/s, loss=1.48]\n"
          ]
        },
        {
          "output_type": "stream",
          "name": "stdout",
          "text": [
            "Epoch 2: TrainLoss=1.4736 ValLoss=1.3331 ValAcc=52.07%\n"
          ]
        },
        {
          "output_type": "stream",
          "name": "stderr",
          "text": [
            "Train Ep 3: 100%|██████████| 391/391 [00:22<00:00, 17.37it/s, loss=1.31]\n"
          ]
        },
        {
          "output_type": "stream",
          "name": "stdout",
          "text": [
            "Epoch 3: TrainLoss=1.3108 ValLoss=1.2117 ValAcc=56.36%\n"
          ]
        },
        {
          "output_type": "stream",
          "name": "stderr",
          "text": [
            "Train Ep 4: 100%|██████████| 391/391 [00:22<00:00, 17.63it/s, loss=1.2]\n"
          ]
        },
        {
          "output_type": "stream",
          "name": "stdout",
          "text": [
            "Epoch 4: TrainLoss=1.2023 ValLoss=1.1112 ValAcc=59.63%\n"
          ]
        },
        {
          "output_type": "stream",
          "name": "stderr",
          "text": [
            "Train Ep 5: 100%|██████████| 391/391 [00:23<00:00, 16.69it/s, loss=1.14]\n"
          ]
        },
        {
          "output_type": "stream",
          "name": "stdout",
          "text": [
            "Epoch 5: TrainLoss=1.1415 ValLoss=1.0592 ValAcc=61.96%\n"
          ]
        },
        {
          "output_type": "stream",
          "name": "stderr",
          "text": [
            "Train Ep 6: 100%|██████████| 391/391 [00:22<00:00, 17.74it/s, loss=1.08]\n"
          ]
        },
        {
          "output_type": "stream",
          "name": "stdout",
          "text": [
            "Epoch 6: TrainLoss=1.0789 ValLoss=1.0030 ValAcc=64.07%\n"
          ]
        },
        {
          "output_type": "stream",
          "name": "stderr",
          "text": [
            "Train Ep 7: 100%|██████████| 391/391 [00:22<00:00, 17.75it/s, loss=1.04]\n"
          ]
        },
        {
          "output_type": "stream",
          "name": "stdout",
          "text": [
            "Epoch 7: TrainLoss=1.0342 ValLoss=1.0020 ValAcc=64.36%\n"
          ]
        },
        {
          "output_type": "stream",
          "name": "stderr",
          "text": [
            "Train Ep 8: 100%|██████████| 391/391 [00:21<00:00, 17.83it/s, loss=0.987]\n"
          ]
        },
        {
          "output_type": "stream",
          "name": "stdout",
          "text": [
            "Epoch 8: TrainLoss=0.9870 ValLoss=0.9452 ValAcc=65.71%\n"
          ]
        },
        {
          "output_type": "stream",
          "name": "stderr",
          "text": [
            "Train Ep 9: 100%|██████████| 391/391 [00:22<00:00, 17.44it/s, loss=0.963]\n"
          ]
        },
        {
          "output_type": "stream",
          "name": "stdout",
          "text": [
            "Epoch 9: TrainLoss=0.9577 ValLoss=0.9250 ValAcc=66.91%\n"
          ]
        },
        {
          "output_type": "stream",
          "name": "stderr",
          "text": [
            "Train Ep 10: 100%|██████████| 391/391 [00:22<00:00, 17.16it/s, loss=0.93]\n"
          ]
        },
        {
          "output_type": "stream",
          "name": "stdout",
          "text": [
            "Epoch 10: TrainLoss=0.9248 ValLoss=0.8969 ValAcc=67.95%\n"
          ]
        },
        {
          "output_type": "stream",
          "name": "stderr",
          "text": [
            "Train Ep 11: 100%|██████████| 391/391 [00:23<00:00, 16.92it/s, loss=0.898]\n"
          ]
        },
        {
          "output_type": "stream",
          "name": "stdout",
          "text": [
            "Epoch 11: TrainLoss=0.8930 ValLoss=0.8385 ValAcc=69.99%\n"
          ]
        },
        {
          "output_type": "stream",
          "name": "stderr",
          "text": [
            "Train Ep 12: 100%|██████████| 391/391 [00:23<00:00, 16.99it/s, loss=0.866]\n"
          ]
        },
        {
          "output_type": "stream",
          "name": "stdout",
          "text": [
            "Epoch 12: TrainLoss=0.8611 ValLoss=0.8445 ValAcc=70.16%\n"
          ]
        },
        {
          "output_type": "stream",
          "name": "stderr",
          "text": [
            "Train Ep 13: 100%|██████████| 391/391 [00:22<00:00, 17.24it/s, loss=0.832]\n"
          ]
        },
        {
          "output_type": "stream",
          "name": "stdout",
          "text": [
            "Epoch 13: TrainLoss=0.8321 ValLoss=0.8365 ValAcc=70.31%\n"
          ]
        },
        {
          "output_type": "stream",
          "name": "stderr",
          "text": [
            "Train Ep 14: 100%|██████████| 391/391 [00:23<00:00, 16.84it/s, loss=0.806]\n"
          ]
        },
        {
          "output_type": "stream",
          "name": "stdout",
          "text": [
            "Epoch 14: TrainLoss=0.8064 ValLoss=0.7971 ValAcc=71.70%\n"
          ]
        },
        {
          "output_type": "stream",
          "name": "stderr",
          "text": [
            "Train Ep 15: 100%|██████████| 391/391 [00:22<00:00, 17.20it/s, loss=0.783]\n"
          ]
        },
        {
          "output_type": "stream",
          "name": "stdout",
          "text": [
            "Epoch 15: TrainLoss=0.7826 ValLoss=0.7973 ValAcc=71.82%\n",
            "Best Acc for small: 71.82%\n",
            "========================================\n",
            " Training config: MEDIUM \n",
            "========================================\n"
          ]
        },
        {
          "output_type": "stream",
          "name": "stderr",
          "text": [
            "Train Ep 1: 100%|██████████| 391/391 [00:43<00:00,  8.92it/s, loss=1.86]\n"
          ]
        },
        {
          "output_type": "stream",
          "name": "stdout",
          "text": [
            "Epoch 1: TrainLoss=1.8581 ValLoss=1.6401 ValAcc=39.56%\n"
          ]
        },
        {
          "output_type": "stream",
          "name": "stderr",
          "text": [
            "Train Ep 2: 100%|██████████| 391/391 [00:43<00:00,  8.98it/s, loss=1.46]\n"
          ]
        },
        {
          "output_type": "stream",
          "name": "stdout",
          "text": [
            "Epoch 2: TrainLoss=1.4574 ValLoss=1.3612 ValAcc=51.29%\n"
          ]
        },
        {
          "output_type": "stream",
          "name": "stderr",
          "text": [
            "Train Ep 3: 100%|██████████| 391/391 [00:43<00:00,  8.95it/s, loss=1.24]\n"
          ]
        },
        {
          "output_type": "stream",
          "name": "stdout",
          "text": [
            "Epoch 3: TrainLoss=1.2415 ValLoss=1.1556 ValAcc=58.43%\n"
          ]
        },
        {
          "output_type": "stream",
          "name": "stderr",
          "text": [
            "Train Ep 4: 100%|██████████| 391/391 [00:43<00:00,  8.94it/s, loss=1.13]\n"
          ]
        },
        {
          "output_type": "stream",
          "name": "stdout",
          "text": [
            "Epoch 4: TrainLoss=1.1300 ValLoss=1.1431 ValAcc=59.23%\n"
          ]
        },
        {
          "output_type": "stream",
          "name": "stderr",
          "text": [
            "Train Ep 5: 100%|██████████| 391/391 [00:43<00:00,  8.95it/s, loss=1.04]\n"
          ]
        },
        {
          "output_type": "stream",
          "name": "stdout",
          "text": [
            "Epoch 5: TrainLoss=1.0444 ValLoss=0.9694 ValAcc=65.32%\n"
          ]
        },
        {
          "output_type": "stream",
          "name": "stderr",
          "text": [
            "Train Ep 6: 100%|██████████| 391/391 [00:43<00:00,  8.93it/s, loss=0.975]\n"
          ]
        },
        {
          "output_type": "stream",
          "name": "stdout",
          "text": [
            "Epoch 6: TrainLoss=0.9749 ValLoss=0.9678 ValAcc=65.20%\n"
          ]
        },
        {
          "output_type": "stream",
          "name": "stderr",
          "text": [
            "Train Ep 7: 100%|██████████| 391/391 [00:43<00:00,  8.92it/s, loss=0.909]\n"
          ]
        },
        {
          "output_type": "stream",
          "name": "stdout",
          "text": [
            "Epoch 7: TrainLoss=0.9090 ValLoss=0.8808 ValAcc=69.09%\n"
          ]
        },
        {
          "output_type": "stream",
          "name": "stderr",
          "text": [
            "Train Ep 8: 100%|██████████| 391/391 [00:43<00:00,  8.95it/s, loss=0.863]\n"
          ]
        },
        {
          "output_type": "stream",
          "name": "stdout",
          "text": [
            "Epoch 8: TrainLoss=0.8627 ValLoss=0.8786 ValAcc=69.01%\n"
          ]
        },
        {
          "output_type": "stream",
          "name": "stderr",
          "text": [
            "Train Ep 9: 100%|██████████| 391/391 [00:43<00:00,  8.95it/s, loss=0.814]\n"
          ]
        },
        {
          "output_type": "stream",
          "name": "stdout",
          "text": [
            "Epoch 9: TrainLoss=0.8142 ValLoss=0.8763 ValAcc=69.89%\n"
          ]
        },
        {
          "output_type": "stream",
          "name": "stderr",
          "text": [
            "Train Ep 10: 100%|██████████| 391/391 [00:43<00:00,  8.97it/s, loss=0.772]\n"
          ]
        },
        {
          "output_type": "stream",
          "name": "stdout",
          "text": [
            "Epoch 10: TrainLoss=0.7718 ValLoss=0.7999 ValAcc=72.18%\n"
          ]
        },
        {
          "output_type": "stream",
          "name": "stderr",
          "text": [
            "Train Ep 11: 100%|██████████| 391/391 [00:43<00:00,  8.96it/s, loss=0.735]\n"
          ]
        },
        {
          "output_type": "stream",
          "name": "stdout",
          "text": [
            "Epoch 11: TrainLoss=0.7355 ValLoss=0.7640 ValAcc=72.89%\n"
          ]
        },
        {
          "output_type": "stream",
          "name": "stderr",
          "text": [
            "Train Ep 12: 100%|██████████| 391/391 [00:43<00:00,  8.94it/s, loss=0.698]\n"
          ]
        },
        {
          "output_type": "stream",
          "name": "stdout",
          "text": [
            "Epoch 12: TrainLoss=0.6977 ValLoss=0.7185 ValAcc=74.64%\n"
          ]
        },
        {
          "output_type": "stream",
          "name": "stderr",
          "text": [
            "Train Ep 13: 100%|██████████| 391/391 [00:43<00:00,  8.95it/s, loss=0.662]\n"
          ]
        },
        {
          "output_type": "stream",
          "name": "stdout",
          "text": [
            "Epoch 13: TrainLoss=0.6620 ValLoss=0.6768 ValAcc=76.06%\n"
          ]
        },
        {
          "output_type": "stream",
          "name": "stderr",
          "text": [
            "Train Ep 14: 100%|██████████| 391/391 [00:43<00:00,  8.93it/s, loss=0.642]\n"
          ]
        },
        {
          "output_type": "stream",
          "name": "stdout",
          "text": [
            "Epoch 14: TrainLoss=0.6420 ValLoss=0.6704 ValAcc=76.25%\n"
          ]
        },
        {
          "output_type": "stream",
          "name": "stderr",
          "text": [
            "Train Ep 15: 100%|██████████| 391/391 [00:43<00:00,  8.95it/s, loss=0.608]\n"
          ]
        },
        {
          "output_type": "stream",
          "name": "stdout",
          "text": [
            "Epoch 15: TrainLoss=0.6081 ValLoss=0.7046 ValAcc=75.44%\n"
          ]
        },
        {
          "output_type": "stream",
          "name": "stderr",
          "text": [
            "Train Ep 16: 100%|██████████| 391/391 [00:43<00:00,  8.97it/s, loss=0.586]\n"
          ]
        },
        {
          "output_type": "stream",
          "name": "stdout",
          "text": [
            "Epoch 16: TrainLoss=0.5862 ValLoss=0.6468 ValAcc=77.50%\n"
          ]
        },
        {
          "output_type": "stream",
          "name": "stderr",
          "text": [
            "Train Ep 17: 100%|██████████| 391/391 [00:43<00:00,  8.93it/s, loss=0.563]\n"
          ]
        },
        {
          "output_type": "stream",
          "name": "stdout",
          "text": [
            "Epoch 17: TrainLoss=0.5631 ValLoss=0.6107 ValAcc=78.28%\n"
          ]
        },
        {
          "output_type": "stream",
          "name": "stderr",
          "text": [
            "Train Ep 18: 100%|██████████| 391/391 [00:43<00:00,  8.96it/s, loss=0.536]\n"
          ]
        },
        {
          "output_type": "stream",
          "name": "stdout",
          "text": [
            "Epoch 18: TrainLoss=0.5363 ValLoss=0.6758 ValAcc=76.77%\n"
          ]
        },
        {
          "output_type": "stream",
          "name": "stderr",
          "text": [
            "Train Ep 19: 100%|██████████| 391/391 [00:43<00:00,  8.95it/s, loss=0.523]\n"
          ]
        },
        {
          "output_type": "stream",
          "name": "stdout",
          "text": [
            "Epoch 19: TrainLoss=0.5225 ValLoss=0.6141 ValAcc=79.14%\n"
          ]
        },
        {
          "output_type": "stream",
          "name": "stderr",
          "text": [
            "Train Ep 20: 100%|██████████| 391/391 [00:43<00:00,  8.91it/s, loss=0.5]\n"
          ]
        },
        {
          "output_type": "stream",
          "name": "stdout",
          "text": [
            "Epoch 20: TrainLoss=0.5000 ValLoss=0.6219 ValAcc=78.36%\n",
            "Best Acc for medium: 79.14%\n",
            "========================================\n",
            " Training config: LARGE \n",
            "========================================\n"
          ]
        },
        {
          "output_type": "stream",
          "name": "stderr",
          "text": [
            "Train Ep 1: 100%|██████████| 391/391 [01:49<00:00,  3.58it/s, loss=1.97]\n"
          ]
        },
        {
          "output_type": "stream",
          "name": "stdout",
          "text": [
            "Epoch 1: TrainLoss=1.9740 ValLoss=1.7398 ValAcc=32.71%\n"
          ]
        },
        {
          "output_type": "stream",
          "name": "stderr",
          "text": [
            "Train Ep 2: 100%|██████████| 391/391 [01:49<00:00,  3.59it/s, loss=1.64]\n"
          ]
        },
        {
          "output_type": "stream",
          "name": "stdout",
          "text": [
            "Epoch 2: TrainLoss=1.6399 ValLoss=1.4880 ValAcc=45.45%\n"
          ]
        },
        {
          "output_type": "stream",
          "name": "stderr",
          "text": [
            "Train Ep 3: 100%|██████████| 391/391 [01:49<00:00,  3.58it/s, loss=1.4]\n"
          ]
        },
        {
          "output_type": "stream",
          "name": "stdout",
          "text": [
            "Epoch 3: TrainLoss=1.3960 ValLoss=1.3286 ValAcc=52.72%\n"
          ]
        },
        {
          "output_type": "stream",
          "name": "stderr",
          "text": [
            "Train Ep 4: 100%|██████████| 391/391 [01:49<00:00,  3.57it/s, loss=1.25]\n"
          ]
        },
        {
          "output_type": "stream",
          "name": "stdout",
          "text": [
            "Epoch 4: TrainLoss=1.2509 ValLoss=1.1892 ValAcc=57.66%\n"
          ]
        },
        {
          "output_type": "stream",
          "name": "stderr",
          "text": [
            "Train Ep 5: 100%|██████████| 391/391 [01:49<00:00,  3.57it/s, loss=1.16]\n"
          ]
        },
        {
          "output_type": "stream",
          "name": "stdout",
          "text": [
            "Epoch 5: TrainLoss=1.1586 ValLoss=1.1560 ValAcc=58.74%\n"
          ]
        },
        {
          "output_type": "stream",
          "name": "stderr",
          "text": [
            "Train Ep 6: 100%|██████████| 391/391 [01:49<00:00,  3.58it/s, loss=1.06]\n"
          ]
        },
        {
          "output_type": "stream",
          "name": "stdout",
          "text": [
            "Epoch 6: TrainLoss=1.0637 ValLoss=0.9778 ValAcc=65.97%\n"
          ]
        },
        {
          "output_type": "stream",
          "name": "stderr",
          "text": [
            "Train Ep 7: 100%|██████████| 391/391 [01:49<00:00,  3.57it/s, loss=0.998]\n"
          ]
        },
        {
          "output_type": "stream",
          "name": "stdout",
          "text": [
            "Epoch 7: TrainLoss=0.9978 ValLoss=0.9847 ValAcc=65.74%\n"
          ]
        },
        {
          "output_type": "stream",
          "name": "stderr",
          "text": [
            "Train Ep 8: 100%|██████████| 391/391 [01:49<00:00,  3.57it/s, loss=0.94]\n"
          ]
        },
        {
          "output_type": "stream",
          "name": "stdout",
          "text": [
            "Epoch 8: TrainLoss=0.9397 ValLoss=0.9131 ValAcc=67.91%\n"
          ]
        },
        {
          "output_type": "stream",
          "name": "stderr",
          "text": [
            "Train Ep 9: 100%|██████████| 391/391 [01:49<00:00,  3.57it/s, loss=0.885]\n"
          ]
        },
        {
          "output_type": "stream",
          "name": "stdout",
          "text": [
            "Epoch 9: TrainLoss=0.8855 ValLoss=0.8672 ValAcc=70.05%\n"
          ]
        },
        {
          "output_type": "stream",
          "name": "stderr",
          "text": [
            "Train Ep 10: 100%|██████████| 391/391 [01:49<00:00,  3.57it/s, loss=0.838]\n"
          ]
        },
        {
          "output_type": "stream",
          "name": "stdout",
          "text": [
            "Epoch 10: TrainLoss=0.8378 ValLoss=0.8188 ValAcc=71.63%\n"
          ]
        },
        {
          "output_type": "stream",
          "name": "stderr",
          "text": [
            "Train Ep 11: 100%|██████████| 391/391 [01:49<00:00,  3.57it/s, loss=0.804]\n"
          ]
        },
        {
          "output_type": "stream",
          "name": "stdout",
          "text": [
            "Epoch 11: TrainLoss=0.8043 ValLoss=0.8162 ValAcc=71.54%\n"
          ]
        },
        {
          "output_type": "stream",
          "name": "stderr",
          "text": [
            "Train Ep 12: 100%|██████████| 391/391 [01:49<00:00,  3.57it/s, loss=0.77]\n"
          ]
        },
        {
          "output_type": "stream",
          "name": "stdout",
          "text": [
            "Epoch 12: TrainLoss=0.7698 ValLoss=0.8180 ValAcc=72.12%\n"
          ]
        },
        {
          "output_type": "stream",
          "name": "stderr",
          "text": [
            "Train Ep 13: 100%|██████████| 391/391 [01:49<00:00,  3.58it/s, loss=0.738]\n"
          ]
        },
        {
          "output_type": "stream",
          "name": "stdout",
          "text": [
            "Epoch 13: TrainLoss=0.7375 ValLoss=0.7511 ValAcc=74.19%\n"
          ]
        },
        {
          "output_type": "stream",
          "name": "stderr",
          "text": [
            "Train Ep 14: 100%|██████████| 391/391 [01:49<00:00,  3.57it/s, loss=0.706]\n"
          ]
        },
        {
          "output_type": "stream",
          "name": "stdout",
          "text": [
            "Epoch 14: TrainLoss=0.7063 ValLoss=0.7425 ValAcc=74.12%\n"
          ]
        },
        {
          "output_type": "stream",
          "name": "stderr",
          "text": [
            "Train Ep 15: 100%|██████████| 391/391 [01:49<00:00,  3.57it/s, loss=0.683]\n"
          ]
        },
        {
          "output_type": "stream",
          "name": "stdout",
          "text": [
            "Epoch 15: TrainLoss=0.6828 ValLoss=0.7118 ValAcc=75.78%\n"
          ]
        },
        {
          "output_type": "stream",
          "name": "stderr",
          "text": [
            "Train Ep 16: 100%|██████████| 391/391 [01:49<00:00,  3.57it/s, loss=0.653]\n"
          ]
        },
        {
          "output_type": "stream",
          "name": "stdout",
          "text": [
            "Epoch 16: TrainLoss=0.6527 ValLoss=0.7073 ValAcc=75.69%\n"
          ]
        },
        {
          "output_type": "stream",
          "name": "stderr",
          "text": [
            "Train Ep 17: 100%|██████████| 391/391 [01:49<00:00,  3.56it/s, loss=0.629]\n"
          ]
        },
        {
          "output_type": "stream",
          "name": "stdout",
          "text": [
            "Epoch 17: TrainLoss=0.6292 ValLoss=0.6902 ValAcc=76.95%\n"
          ]
        },
        {
          "output_type": "stream",
          "name": "stderr",
          "text": [
            "Train Ep 18: 100%|██████████| 391/391 [01:49<00:00,  3.57it/s, loss=0.617]\n"
          ]
        },
        {
          "output_type": "stream",
          "name": "stdout",
          "text": [
            "Epoch 18: TrainLoss=0.6175 ValLoss=0.6651 ValAcc=77.19%\n"
          ]
        },
        {
          "output_type": "stream",
          "name": "stderr",
          "text": [
            "Train Ep 19: 100%|██████████| 391/391 [01:49<00:00,  3.57it/s, loss=0.592]\n"
          ]
        },
        {
          "output_type": "stream",
          "name": "stdout",
          "text": [
            "Epoch 19: TrainLoss=0.5925 ValLoss=0.6466 ValAcc=78.16%\n"
          ]
        },
        {
          "output_type": "stream",
          "name": "stderr",
          "text": [
            "Train Ep 20: 100%|██████████| 391/391 [01:49<00:00,  3.56it/s, loss=0.58]\n"
          ]
        },
        {
          "output_type": "stream",
          "name": "stdout",
          "text": [
            "Epoch 20: TrainLoss=0.5797 ValLoss=0.6364 ValAcc=78.09%\n"
          ]
        },
        {
          "output_type": "stream",
          "name": "stderr",
          "text": [
            "Train Ep 21: 100%|██████████| 391/391 [01:49<00:00,  3.57it/s, loss=0.559]\n"
          ]
        },
        {
          "output_type": "stream",
          "name": "stdout",
          "text": [
            "Epoch 21: TrainLoss=0.5592 ValLoss=0.6246 ValAcc=78.78%\n"
          ]
        },
        {
          "output_type": "stream",
          "name": "stderr",
          "text": [
            "Train Ep 22: 100%|██████████| 391/391 [01:49<00:00,  3.57it/s, loss=0.54]\n"
          ]
        },
        {
          "output_type": "stream",
          "name": "stdout",
          "text": [
            "Epoch 22: TrainLoss=0.5399 ValLoss=0.6190 ValAcc=79.09%\n"
          ]
        },
        {
          "output_type": "stream",
          "name": "stderr",
          "text": [
            "Train Ep 23: 100%|██████████| 391/391 [01:49<00:00,  3.56it/s, loss=0.52]\n"
          ]
        },
        {
          "output_type": "stream",
          "name": "stdout",
          "text": [
            "Epoch 23: TrainLoss=0.5197 ValLoss=0.6652 ValAcc=78.38%\n"
          ]
        },
        {
          "output_type": "stream",
          "name": "stderr",
          "text": [
            "Train Ep 24: 100%|██████████| 391/391 [01:49<00:00,  3.57it/s, loss=0.507]\n"
          ]
        },
        {
          "output_type": "stream",
          "name": "stdout",
          "text": [
            "Epoch 24: TrainLoss=0.5072 ValLoss=0.6492 ValAcc=79.02%\n"
          ]
        },
        {
          "output_type": "stream",
          "name": "stderr",
          "text": [
            "Train Ep 25: 100%|██████████| 391/391 [01:49<00:00,  3.57it/s, loss=0.487]\n"
          ]
        },
        {
          "output_type": "stream",
          "name": "stdout",
          "text": [
            "Epoch 25: TrainLoss=0.4870 ValLoss=0.6189 ValAcc=79.65%\n",
            "Best Acc for large: 79.65%\n",
            "\n",
            "==== Final Results ====\n",
            "Small: 71.82%\n",
            "Medium: 79.14%\n",
            "Large: 79.65%\n"
          ]
        }
      ]
    },
    {
      "cell_type": "code",
      "source": [
        "modes = list(results.keys())\n",
        "accs = [results[m] for m in modes]\n",
        "\n",
        "plt.figure(figsize=(8,5))\n",
        "plt.bar(modes, accs, color=['skyblue', 'orange', 'green'])\n",
        "plt.ylabel(\"Best Accuracy (%)\")\n",
        "plt.title(\"Best CIFAR-10 Accuracy per ViT Config\")\n",
        "for i, v in enumerate(accs):\n",
        "    plt.text(i, v + 0.5, f\"{v:.2f}%\", ha='center', fontsize=12)\n",
        "plt.show()\n"
      ],
      "metadata": {
        "colab": {
          "base_uri": "https://localhost:8080/",
          "height": 468
        },
        "id": "2rcC4be1cjQQ",
        "outputId": "7863df4f-6b40-4243-e52d-833f9585fcdc"
      },
      "execution_count": 40,
      "outputs": [
        {
          "output_type": "display_data",
          "data": {
            "text/plain": [
              "<Figure size 800x500 with 1 Axes>"
            ],
            "image/png": "[encoded data removed]"
          },
          "metadata": {}
        }
      ]
    },
    {
      "cell_type": "code",
      "source": [],
      "metadata": {
        "id": "R_oTKpQkcjTU"
      },
      "execution_count": null,
      "outputs": []
    },
    {
      "cell_type": "code",
      "source": [],
      "metadata": {
        "id": "h0XbZFHpcjWN"
      },
      "execution_count": null,
      "outputs": []
    },
    {
      "cell_type": "code",
      "source": [],
      "metadata": {
        "id": "CYyjXiZ0cjZD"
      },
      "execution_count": null,
      "outputs": []
    },
    {
      "cell_type": "code",
      "source": [],
      "metadata": {
        "id": "2LsNECLhcjb7"
      },
      "execution_count": null,
      "outputs": []
    },
    {
      "cell_type": "code",
      "source": [],
      "metadata": {
        "id": "FaDpx6hUcjek"
      },
      "execution_count": null,
      "outputs": []
    },
    {
      "cell_type": "code",
      "source": [],
      "metadata": {
        "id": "32YRP-NLcjhE"
      },
      "execution_count": null,
      "outputs": []
    },
    {
      "cell_type": "code",
      "source": [],
      "metadata": {
        "id": "G-zhGl4PcjkB"
      },
      "execution_count": null,
      "outputs": []
    },
    {
      "cell_type": "code",
      "source": [],
      "metadata": {
        "id": "wXkaQjTdcjmg"
      },
      "execution_count": null,
      "outputs": []
    },
    {
      "cell_type": "code",
      "source": [],
      "metadata": {
        "id": "nQZqpC1ScjpQ"
      },
      "execution_count": null,
      "outputs": []
    },
    {
      "cell_type": "code",
      "source": [],
      "metadata": {
        "id": "MwASYfmIcjsj"
      },
      "execution_count": null,
      "outputs": []
    }
  ]
}